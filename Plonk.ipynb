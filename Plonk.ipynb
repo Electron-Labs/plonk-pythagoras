{
 "cells": [
  {
   "cell_type": "code",
   "execution_count": 279,
   "id": "986d07df",
   "metadata": {},
   "outputs": [],
   "source": [
    "F101 = Integers(101)"
   ]
  },
  {
   "cell_type": "code",
   "execution_count": 280,
   "id": "8920dd1a",
   "metadata": {},
   "outputs": [
    {
     "data": {
      "text/plain": [
       "Ring of integers modulo 101"
      ]
     },
     "execution_count": 280,
     "metadata": {},
     "output_type": "execute_result"
    }
   ],
   "source": [
    "F101"
   ]
  },
  {
   "cell_type": "code",
   "execution_count": 281,
   "id": "3ecdf691",
   "metadata": {},
   "outputs": [],
   "source": [
    "#(QL)ai + (QR)bi + (Qoi)ci + (Qmi)aibi + Qco = 0"
   ]
  },
  {
   "cell_type": "code",
   "execution_count": 282,
   "id": "8116e037",
   "metadata": {},
   "outputs": [],
   "source": [
    "E = EllipticCurve(F101, [0, 3])"
   ]
  },
  {
   "cell_type": "code",
   "execution_count": 283,
   "id": "71f3997e",
   "metadata": {},
   "outputs": [
    {
     "data": {
      "text/plain": [
       "Elliptic Curve defined by y^2 = x^3 + 3 over Ring of integers modulo 101"
      ]
     },
     "execution_count": 283,
     "metadata": {},
     "output_type": "execute_result"
    }
   ],
   "source": [
    "E"
   ]
  },
  {
   "cell_type": "code",
   "execution_count": 284,
   "id": "fe347c6f",
   "metadata": {},
   "outputs": [],
   "source": [
    "G = E([1,2])"
   ]
  },
  {
   "cell_type": "code",
   "execution_count": 285,
   "id": "a606abed",
   "metadata": {},
   "outputs": [],
   "source": [
    "R.<X> = PolynomialRing(F101)"
   ]
  },
  {
   "cell_type": "code",
   "execution_count": 286,
   "id": "6a007b50",
   "metadata": {},
   "outputs": [],
   "source": [
    "K.<X> = GF(101**2, modulus=X^2+2)"
   ]
  },
  {
   "cell_type": "code",
   "execution_count": 287,
   "id": "4a16ea47",
   "metadata": {},
   "outputs": [],
   "source": [
    "E2 = EllipticCurve(K, [0,3])"
   ]
  },
  {
   "cell_type": "code",
   "execution_count": 288,
   "id": "b5e5902b",
   "metadata": {},
   "outputs": [
    {
     "data": {
      "text/plain": [
       "Elliptic Curve defined by y^2 = x^3 + 3 over Finite Field in X of size 101^2"
      ]
     },
     "execution_count": 288,
     "metadata": {},
     "output_type": "execute_result"
    }
   ],
   "source": [
    "E2"
   ]
  },
  {
   "cell_type": "code",
   "execution_count": 289,
   "id": "3f8a6d73",
   "metadata": {},
   "outputs": [],
   "source": [
    "G2 = E2([36, 31*X])"
   ]
  },
  {
   "cell_type": "code",
   "execution_count": 290,
   "id": "d57de1ef",
   "metadata": {},
   "outputs": [],
   "source": [
    "N = G.order()"
   ]
  },
  {
   "cell_type": "code",
   "execution_count": 291,
   "id": "54e03beb",
   "metadata": {},
   "outputs": [],
   "source": [
    "F17 = Integers(N)"
   ]
  },
  {
   "cell_type": "code",
   "execution_count": 292,
   "id": "2e2286e8",
   "metadata": {},
   "outputs": [],
   "source": [
    "#4th roots of power 1\n",
    "w = vector(F17, [1, 4, -1 , -4])"
   ]
  },
  {
   "cell_type": "code",
   "execution_count": 293,
   "id": "8458b271",
   "metadata": {},
   "outputs": [
    {
     "data": {
      "text/plain": [
       "(1, 4, 16, 13)"
      ]
     },
     "execution_count": 293,
     "metadata": {},
     "output_type": "execute_result"
    }
   ],
   "source": [
    "w"
   ]
  },
  {
   "cell_type": "code",
   "execution_count": 294,
   "id": "90feb2fc",
   "metadata": {},
   "outputs": [],
   "source": [
    "k1=2; k2=3"
   ]
  },
  {
   "cell_type": "code",
   "execution_count": 295,
   "id": "a5b48119",
   "metadata": {},
   "outputs": [
    {
     "data": {
      "text/plain": [
       "(2, 8, 15, 9)"
      ]
     },
     "execution_count": 295,
     "metadata": {},
     "output_type": "execute_result"
    }
   ],
   "source": [
    "k1*w #cosets"
   ]
  },
  {
   "cell_type": "code",
   "execution_count": 296,
   "id": "8f4fe130",
   "metadata": {},
   "outputs": [
    {
     "data": {
      "text/plain": [
       "(3, 12, 14, 5)"
      ]
     },
     "execution_count": 296,
     "metadata": {},
     "output_type": "execute_result"
    }
   ],
   "source": [
    "k2*w #cosets"
   ]
  },
  {
   "cell_type": "code",
   "execution_count": 297,
   "id": "7bc7d903",
   "metadata": {},
   "outputs": [],
   "source": [
    "A = matrix(F17, [[1,1,1,1],[1,4,4**2,4**3],[1,16,16**2,16**3],[1,13,13**2,13**3]])"
   ]
  },
  {
   "cell_type": "code",
   "execution_count": 298,
   "id": "d560db67",
   "metadata": {},
   "outputs": [],
   "source": [
    "Ai = A.inverse()"
   ]
  },
  {
   "cell_type": "code",
   "execution_count": 299,
   "id": "4a3ac0d2",
   "metadata": {},
   "outputs": [],
   "source": [
    "P.<x> = F17[];x=P.0"
   ]
  },
  {
   "cell_type": "code",
   "execution_count": 300,
   "id": "b6ab5709",
   "metadata": {},
   "outputs": [],
   "source": [
    "a = vector(F17, [3,4,5,9])\n",
    "b = vector(F17, [3,4,5,16])\n",
    "c = vector(F17, [9,16,25,25])\n",
    "fa = P(list(Ai*a))\n",
    "fb = P(list(Ai*b))\n",
    "fc = P(list(Ai*c))\n",
    "ql = P(list(Ai*vector(F17, [0,0,0,1])))\n",
    "qr = P(list(Ai*vector(F17, [0,0,0,1])))\n",
    "qm = P(list(Ai*vector(F17, [1,1,1,0])))\n",
    "qc = P(list(Ai*vector(F17, [0,0,0,0])))\n",
    "qo = P(list(Ai*vector(F17, [-1,-1,-1,-1])))"
   ]
  },
  {
   "cell_type": "code",
   "execution_count": 301,
   "id": "7fc6044a",
   "metadata": {},
   "outputs": [
    {
     "data": {
      "text/plain": [
       "(3*x^3 + 3*x^2 + 13*x + 1, 13*x^3 + 14*x^2 + 3*x + 7, 4*x^3 + 11*x^2 + 5*x + 6)"
      ]
     },
     "execution_count": 301,
     "metadata": {},
     "output_type": "execute_result"
    }
   ],
   "source": [
    "fa, fb, fc"
   ]
  },
  {
   "cell_type": "code",
   "execution_count": 302,
   "id": "81ec5982",
   "metadata": {},
   "outputs": [
    {
     "data": {
      "text/plain": [
       "(16*x^3 + 4*x^2 + x + 13,\n",
       " 16*x^3 + 4*x^2 + x + 13,\n",
       " x^3 + 13*x^2 + 16*x + 5,\n",
       " 16,\n",
       " 0)"
      ]
     },
     "execution_count": 302,
     "metadata": {},
     "output_type": "execute_result"
    }
   ],
   "source": [
    "ql,qr,qm,qo,qc"
   ]
  },
  {
   "cell_type": "code",
   "execution_count": 303,
   "id": "b7b79c10",
   "metadata": {},
   "outputs": [],
   "source": [
    "Sa = P(list(Ai*vector(F17, [2,8,15,3])));\n",
    "Sb = P(list(Ai*vector(F17, [1,4,16,12])));\n",
    "Sc = P(list(Ai*vector(F17, [13,9,5,14])));"
   ]
  },
  {
   "cell_type": "code",
   "execution_count": 304,
   "id": "d7116a99",
   "metadata": {
    "scrolled": true
   },
   "outputs": [
    {
     "data": {
      "text/plain": [
       "(8, x^3 + 13*x^2 + 4, 14*x^3 + 3*x^2 + 7*x + 6)"
      ]
     },
     "execution_count": 304,
     "metadata": {},
     "output_type": "execute_result"
    }
   ],
   "source": [
    "Sa(4), Sb, Sc"
   ]
  },
  {
   "cell_type": "markdown",
   "id": "f2a5385f",
   "metadata": {},
   "source": [
    "## Running trusted setup cermony"
   ]
  },
  {
   "cell_type": "code",
   "execution_count": 305,
   "id": "1fcdd849",
   "metadata": {},
   "outputs": [
    {
     "data": {
      "text/plain": [
       "'According to the PLONK protocol paper, a circuit with n\\n gates requires an SRS with at least n+5 elements '"
      ]
     },
     "execution_count": 305,
     "metadata": {},
     "output_type": "execute_result"
    }
   ],
   "source": [
    "''' The reference string is a list of elliptic curve points\n",
    "parameterised by a randomly generated secret number s,\n",
    "which is a part of toxic waste. Any circuit can use similar SRS \n",
    "as long as it has enough elements.'''\n",
    "'''According to the PLONK protocol paper, a circuit with n\n",
    " gates requires an SRS with at least n+5 elements '''"
   ]
  },
  {
   "cell_type": "code",
   "execution_count": 306,
   "id": "307215fd",
   "metadata": {},
   "outputs": [
    {
     "data": {
      "text/plain": [
       "[[(1 : 2 : 1),\n",
       "  (68 : 74 : 1),\n",
       "  (65 : 98 : 1),\n",
       "  (18 : 49 : 1),\n",
       "  (1 : 99 : 1),\n",
       "  (68 : 27 : 1),\n",
       "  (65 : 3 : 1)],\n",
       " [(36 : 31*X : 1), (90 : 82*X : 1)]]"
      ]
     },
     "execution_count": 306,
     "metadata": {},
     "output_type": "execute_result"
    }
   ],
   "source": [
    "s = 2 #secret number\n",
    "srs_1 = vector(F17,[s**p for p in range(0, 7)])\n",
    "srs_1 = [i*G for i in srs_1]\n",
    "srs_2 = [G2, 2*G2]\n",
    "[srs_1, srs_2]"
   ]
  },
  {
   "cell_type": "markdown",
   "id": "700f9876",
   "metadata": {},
   "source": [
    "# Round1\n",
    "### * Round1 of the protocol tells us how to encode our assignment vectors a,b,c for later use\n",
    "### Generate random b1, .., b6 from F17\n",
    "### a(x) = (b1x + b2).Zh + fa(x)\n",
    "### b(x) = (b3x + b4).Zh + fb(x)\n",
    "### c(x) = (b5x + b6).Zh + fc(x)\n",
    "### Output => [a(s)], [b(s)], [c(s)]"
   ]
  },
  {
   "cell_type": "code",
   "execution_count": 307,
   "id": "649076d8",
   "metadata": {},
   "outputs": [],
   "source": [
    "# Zh is a poly that is zero on all elements of our subgroup H\n",
    "# Zh = x^4 - 1"
   ]
  },
  {
   "cell_type": "code",
   "execution_count": 308,
   "id": "c6ef7749",
   "metadata": {},
   "outputs": [],
   "source": [
    "# Chose random b1,..,b6 in F17 -> (7,4,11,12,16,2)"
   ]
  },
  {
   "cell_type": "code",
   "execution_count": 309,
   "id": "b84934c8",
   "metadata": {},
   "outputs": [],
   "source": [
    "Zh = x**4-1"
   ]
  },
  {
   "cell_type": "code",
   "execution_count": 310,
   "id": "a2dfdf9f",
   "metadata": {},
   "outputs": [],
   "source": [
    "a_x = (7*x+4)*Zh+fa\n",
    "b_x = (11*x+12)*Zh+fb\n",
    "c_x = (16*x+2)*Zh+fc"
   ]
  },
  {
   "cell_type": "code",
   "execution_count": 311,
   "id": "f1e96667",
   "metadata": {},
   "outputs": [
    {
     "data": {
      "text/plain": [
       "(7*x^5 + 4*x^4 + 3*x^3 + 3*x^2 + 6*x + 14,\n",
       " 11*x^5 + 12*x^4 + 13*x^3 + 14*x^2 + 9*x + 12,\n",
       " 16*x^5 + 2*x^4 + 4*x^3 + 11*x^2 + 6*x + 4)"
      ]
     },
     "execution_count": 311,
     "metadata": {},
     "output_type": "execute_result"
    }
   ],
   "source": [
    "a_x, b_x, c_x"
   ]
  },
  {
   "cell_type": "code",
   "execution_count": 312,
   "id": "cbafa20a",
   "metadata": {},
   "outputs": [],
   "source": [
    "# now these polynomials are converted to elliptic curve points \n",
    "# which represent these polynomials evaluated at the secret\n",
    "# number s"
   ]
  },
  {
   "cell_type": "code",
   "execution_count": 313,
   "id": "81d7a3f3",
   "metadata": {},
   "outputs": [
    {
     "data": {
      "text/plain": [
       "[(91 : 66 : 1), (26 : 45 : 1), (91 : 35 : 1)]"
      ]
     },
     "execution_count": 313,
     "metadata": {},
     "output_type": "execute_result"
    }
   ],
   "source": [
    "a_coeffs = a_x.coefficients()\n",
    "a_s = 0\n",
    "for i in range(0,len(a_coeffs)):\n",
    "    a_s += a_coeffs[i]*srs_1[i]\n",
    "    \n",
    "b_coeffs = b_x.coefficients()\n",
    "b_s = 0\n",
    "for i in range(0,len(b_coeffs)):\n",
    "    b_s += b_coeffs[i]*srs_1[i]\n",
    "\n",
    "c_coeffs = c_x.coefficients()\n",
    "c_s = 0\n",
    "for i in range(0,len(c_coeffs)):\n",
    "    c_s += c_coeffs[i]*srs_1[i]\n",
    "\n",
    "## here comes the output for round1\n",
    "[a_s, b_s, c_s]"
   ]
  },
  {
   "cell_type": "markdown",
   "id": "9fe7b87e",
   "metadata": {},
   "source": [
    "# Round 2\n",
    "## Round 2 is about committing to a single polynomial z that encodes all of the copy constraints we discussed earlier.\n",
    "\n",
    "### 1. Generate random b7, b9 in F17\n",
    "### 2. Get challenges beta, gamma in F17\n",
    "### 3. Compute Z(x) as (b7 * x**2 + b8 * x + b9)Zh(x) + acc(x)\n",
    "### 4. Output [Z(s)]"
   ]
  },
  {
   "cell_type": "code",
   "execution_count": 314,
   "id": "c0a88166",
   "metadata": {},
   "outputs": [],
   "source": [
    "# let random b7 = 14, b8 = 11, b9 = 7 \n",
    "# and lets say verifier choses beta = 12, gamma = 13"
   ]
  },
  {
   "cell_type": "code",
   "execution_count": 315,
   "id": "bc0ce120",
   "metadata": {},
   "outputs": [
    {
     "data": {
      "text/plain": [
       "[1, 3, 9, 4]"
      ]
     },
     "execution_count": 315,
     "metadata": {},
     "output_type": "execute_result"
    }
   ],
   "source": [
    "acc = [1, -1, -1 , -1]\n",
    "beta = 12\n",
    "gamma = 13\n",
    "for i in range(1,4):\n",
    "    c1 = (a[i-1]+beta*w[i-1]+gamma)\n",
    "    c2 = (b[i-1]+beta*k1*w[i-1]+gamma)\n",
    "    c3 = (c[i-1]+beta*k2*w[i-1]+gamma)\n",
    "    c4 = (a[i-1]+beta*Sa(w[i-1])+gamma)\n",
    "    c5 = (b[i-1]+beta*Sb(w[i-1])+gamma)\n",
    "    c6 = (c[i-1]+beta*Sc(w[i-1])+gamma)\n",
    "    acc[i] = (acc[i-1] * ((c1*c2*c3)/(c4*c5*c6)))\n",
    "acc"
   ]
  },
  {
   "cell_type": "code",
   "execution_count": 316,
   "id": "de644888",
   "metadata": {},
   "outputs": [],
   "source": [
    "acc_x = P(list(Ai*vector(F17, acc)))"
   ]
  },
  {
   "cell_type": "code",
   "execution_count": 317,
   "id": "d6e6499d",
   "metadata": {},
   "outputs": [
    {
     "data": {
      "text/plain": [
       "14*x^3 + 5*x^2 + 16*x"
      ]
     },
     "execution_count": 317,
     "metadata": {},
     "output_type": "execute_result"
    }
   ],
   "source": [
    "acc_x"
   ]
  },
  {
   "cell_type": "code",
   "execution_count": 318,
   "id": "a7da4846",
   "metadata": {},
   "outputs": [],
   "source": [
    "b7 = 14; b8 = 11; b9 = 7"
   ]
  },
  {
   "cell_type": "code",
   "execution_count": 319,
   "id": "c42aedcc",
   "metadata": {},
   "outputs": [],
   "source": [
    "Zx = (b7*x**2 + b8*x + b9)*Zh + acc_x"
   ]
  },
  {
   "cell_type": "code",
   "execution_count": 320,
   "id": "fc87b133",
   "metadata": {},
   "outputs": [
    {
     "data": {
      "text/plain": [
       "14*x^6 + 11*x^5 + 7*x^4 + 14*x^3 + 8*x^2 + 5*x + 10"
      ]
     },
     "execution_count": 320,
     "metadata": {},
     "output_type": "execute_result"
    }
   ],
   "source": [
    "Zx"
   ]
  },
  {
   "cell_type": "code",
   "execution_count": 321,
   "id": "17dc3c9b",
   "metadata": {},
   "outputs": [
    {
     "data": {
      "text/plain": [
       "(32 : 59 : 1)"
      ]
     },
     "execution_count": 321,
     "metadata": {},
     "output_type": "execute_result"
    }
   ],
   "source": [
    "Zx_coeffs = Zx.coefficients()\n",
    "z_s = 0\n",
    "for i in range(0,len(Zx_coeffs)):\n",
    "    z_s += Zx_coeffs[i]*srs_1[i]\n",
    "z_s"
   ]
  },
  {
   "cell_type": "markdown",
   "id": "6d9a03cb",
   "metadata": {},
   "source": [
    "# Round 3\n",
    "### 1. Compute quotient challenge alpha from F17\n",
    "### 2. Compute quotient polynomial t(x)\n",
    "### 3. Split into degree < n+2 polynomials t_lo(x), t_mid(x), t_hi(x) where t(x) = t_lo(x) + x**(n+2) * tmid(x) + x**(2n+4) * t_hi(x)\n",
    "### 4. output = [ [t_lo(s)] , [t_mid(s)] , [t_hi(s)] ]"
   ]
  },
  {
   "cell_type": "code",
   "execution_count": 322,
   "id": "71d55221",
   "metadata": {},
   "outputs": [],
   "source": [
    "alpha = 15"
   ]
  },
  {
   "cell_type": "code",
   "execution_count": 323,
   "id": "ba16ba7a",
   "metadata": {},
   "outputs": [
    {
     "data": {
      "text/plain": [
       "13*x^3 + 13*x^2 + 13*x + 13"
      ]
     },
     "execution_count": 323,
     "metadata": {},
     "output_type": "execute_result"
    }
   ],
   "source": [
    "# for computing t(x) we basically need L1 which refers to Lagrange Basis\n",
    "# Polynomial over roots of unity H. L1 can be found by interpolating the\n",
    "# vector (1, 0, 0, 0).\n",
    "L1 = P(list(Ai*vector(F17, [1,0,0,0])));\n",
    "L1"
   ]
  },
  {
   "cell_type": "code",
   "execution_count": 324,
   "id": "17566320",
   "metadata": {},
   "outputs": [
    {
     "data": {
      "text/plain": [
       "11*x^17 + 7*x^16 + 2*x^15 + 16*x^14 + 6*x^13 + 15*x^12 + x^11 + 10*x^10 + 2*x^9 + x^8 + 8*x^7 + 13*x^6 + 13*x^5 + 9*x^3 + 13*x^2 + 16*x + 11"
      ]
     },
     "execution_count": 324,
     "metadata": {},
     "output_type": "execute_result"
    }
   ],
   "source": [
    "# we will compute tz = t(x)*Zh(x) and then divide by Zh(x) to find t(x)\n",
    "tz1 = a_x*b_x*qm + a_x*ql + b_x*qr + c_x*qo + qc;\n",
    "tz2 = ((a_x + beta * x + gamma)*(b_x+beta*k1*x+gamma)*(c_x+beta*k2*x+gamma)*Zx)*alpha\n",
    "[tz1, tz2]\n",
    "Zw = Zx(w[1]*x)\n",
    "tz3_1 = alpha*(a_x + beta * Sa + gamma)\n",
    "tz3_2 = (b_x + beta * Sb + gamma)\n",
    "tz3_3 = (c_x + beta * Sc + gamma)\n",
    "tz3 = -1*(tz3_1 * tz3_2 * tz3_3 * Zw)\n",
    "tz4 = (Zx-1)*L1*alpha**2\n",
    "tz = tz1 + tz2 + tz3 + tz4\n",
    "# print(tz3)\n",
    "t = P(tz/Zh)\n",
    "t"
   ]
  },
  {
   "cell_type": "code",
   "execution_count": 325,
   "id": "a40804c0",
   "metadata": {},
   "outputs": [],
   "source": [
    "t_list = t.list() #list() includes 0 coeffs too not coefficients()"
   ]
  },
  {
   "cell_type": "code",
   "execution_count": 326,
   "id": "2261dd75",
   "metadata": {},
   "outputs": [],
   "source": [
    "t_lo = t_list[0:6]\n",
    "t_mid = t_list[6:12]\n",
    "t_hi = t_list[12:18]"
   ]
  },
  {
   "cell_type": "code",
   "execution_count": 327,
   "id": "02e65582",
   "metadata": {},
   "outputs": [
    {
     "data": {
      "text/plain": [
       "[(12 : 32 : 1), (26 : 45 : 1), (91 : 66 : 1)]"
      ]
     },
     "execution_count": 327,
     "metadata": {},
     "output_type": "execute_result"
    }
   ],
   "source": [
    "t_lo_s = 0\n",
    "for i in range(0,len(t_lo)):\n",
    "    t_lo_s += t_lo[i]*srs_1[i]\n",
    "    \n",
    "t_mid_s = 0\n",
    "for i in range(0,len(t_mid)):\n",
    "    t_mid_s += t_mid[i]*srs_1[i]\n",
    "\n",
    "t_hi_s = 0\n",
    "for i in range(0,len(t_hi)):\n",
    "    t_hi_s += t_hi[i]*srs_1[i]\n",
    "\n",
    "## here comes the output for round1\n",
    "[t_lo_s, t_mid_s, t_hi_s]"
   ]
  },
  {
   "cell_type": "markdown",
   "id": "8cfe0ada",
   "metadata": {},
   "source": [
    "# Round 4\n",
    "### 1. Compute evaluation challenge zeta from F17\n",
    "### 2. Compute opening evaluations : ex: a_ = a_x(zeta)\n",
    "### 3. Compute linearization polynomial r\n",
    "### 4. Compute linearization evaluation r_\n",
    "### 5. output => ( a_, b_, c_, sa_, sb_, sc_, zw_, t_, r_)"
   ]
  },
  {
   "cell_type": "code",
   "execution_count": 328,
   "id": "d964d2d8",
   "metadata": {},
   "outputs": [],
   "source": [
    "zeta = 5\n",
    "a_ = a_x(zeta)\n",
    "b_ = b_x(zeta)\n",
    "c_ = c_x(zeta)\n",
    "sa_ = Sa(zeta)\n",
    "sb_ = Sb(zeta)\n",
    "sc_ = Sc(zeta)\n",
    "t_ = t(zeta)\n",
    "zw_ = Zx(w[1]*zeta)"
   ]
  },
  {
   "cell_type": "code",
   "execution_count": 329,
   "id": "563d6c4d",
   "metadata": {},
   "outputs": [],
   "source": [
    "r1 = (a_*b_*qm)+(a_*ql)+(b_*qr)+(c_*qo)+qc\n",
    "r2 = ((a_+beta*zeta+gamma)*(b_+beta*k1*zeta+gamma)*(c_+beta*k2*zeta+gamma)*Zx)*alpha\n",
    "r3 = ((a_+beta*sa_+gamma)*(b_+beta*sb_+gamma)*beta*zw_*Sc)*alpha\n",
    "r4 = Zx * L1(zeta) * alpha**2"
   ]
  },
  {
   "cell_type": "code",
   "execution_count": 330,
   "id": "2f2354bc",
   "metadata": {},
   "outputs": [
    {
     "data": {
      "text/plain": [
       "15"
      ]
     },
     "execution_count": 330,
     "metadata": {},
     "output_type": "execute_result"
    }
   ],
   "source": [
    "r = r1 + r2 - r3 + r4\n",
    "r_ = r(zeta)\n",
    "r_"
   ]
  },
  {
   "cell_type": "code",
   "execution_count": 331,
   "id": "61ba4355",
   "metadata": {},
   "outputs": [
    {
     "name": "stdout",
     "output_type": "stream",
     "text": [
      "15 13 5 1 12 13 1 15 15\n"
     ]
    }
   ],
   "source": [
    "print(a_, b_, c_, sa_, sb_, sc_, t_, zw_, r_)"
   ]
  },
  {
   "cell_type": "markdown",
   "id": "685f06fd",
   "metadata": {},
   "source": [
    "# Round 5\n",
    "### 1. Compute opening challenge vega from F17.\n",
    "### 2. Compute opening proof polynomial w_zeta(x).\n",
    "### 3. Compute opening proof polynomial w_zeta_omega(x).\n",
    "### 4. Output [w_zeta, w_zeta_omega]"
   ]
  },
  {
   "cell_type": "code",
   "execution_count": 332,
   "id": "1d93cccf",
   "metadata": {},
   "outputs": [],
   "source": [
    "vega = 12\n",
    "v1 = P(t_lo)\n",
    "v2 = zeta**6*P(t_mid)\n",
    "v3 = zeta**12*P(t_hi)\n",
    "v4 = -t_\n",
    "v5 = vega*(r-r_)+vega**2*(a_x-a_)+vega**3*(b_x-b_)+vega**4*(c_x-c_)+vega**5*(Sa-sa_)+vega**6*(Sb-sb_)\n",
    "w_z = v1+v2+v3+v4+v5"
   ]
  },
  {
   "cell_type": "code",
   "execution_count": 333,
   "id": "ed1ad1a7",
   "metadata": {},
   "outputs": [
    {
     "data": {
      "text/plain": [
       "5*x^6 + 12*x^5 + 11*x^4 + 8*x^3 + 3*x^2 + 2*x + 5"
      ]
     },
     "execution_count": 333,
     "metadata": {},
     "output_type": "execute_result"
    }
   ],
   "source": [
    "w_z"
   ]
  },
  {
   "cell_type": "code",
   "execution_count": 334,
   "id": "b1198439",
   "metadata": {},
   "outputs": [],
   "source": [
    "w_zeta = w_z/(x-zeta)"
   ]
  },
  {
   "cell_type": "code",
   "execution_count": 335,
   "id": "96beff90",
   "metadata": {},
   "outputs": [
    {
     "data": {
      "text/plain": [
       "5*x^5 + 3*x^4 + 9*x^3 + 2*x^2 + 13*x + 16"
      ]
     },
     "execution_count": 335,
     "metadata": {},
     "output_type": "execute_result"
    }
   ],
   "source": [
    "w_zeta"
   ]
  },
  {
   "cell_type": "code",
   "execution_count": 337,
   "id": "bc5a0d28",
   "metadata": {},
   "outputs": [],
   "source": [
    "w_zeta_omega = (Zx-zw_)/(x-zeta*w[1])"
   ]
  },
  {
   "cell_type": "code",
   "execution_count": 338,
   "id": "0c2d20ad",
   "metadata": {},
   "outputs": [
    {
     "data": {
      "text/plain": [
       "14*x^5 + 2*x^4 + 13*x^3 + 2*x^2 + 14*x + 13"
      ]
     },
     "execution_count": 338,
     "metadata": {},
     "output_type": "execute_result"
    }
   ],
   "source": [
    "w_zeta_omega"
   ]
  },
  {
   "cell_type": "code",
   "execution_count": 345,
   "id": "208041ec",
   "metadata": {},
   "outputs": [
    {
     "data": {
      "text/plain": [
       "(91 : 35 : 1)"
      ]
     },
     "execution_count": 345,
     "metadata": {},
     "output_type": "execute_result"
    }
   ],
   "source": [
    "w_zeta_coeffs = P(w_zeta).list()\n",
    "w_zeta_s = 0\n",
    "for i in range(0, len(w_zeta_coeffs)):\n",
    "    w_zeta_s += w_zeta_coeffs[i]*srs_1[i]\n",
    "w_zeta_s"
   ]
  },
  {
   "cell_type": "code",
   "execution_count": 346,
   "id": "407fc8e3",
   "metadata": {},
   "outputs": [
    {
     "data": {
      "text/plain": [
       "(65 : 98 : 1)"
      ]
     },
     "execution_count": 346,
     "metadata": {},
     "output_type": "execute_result"
    }
   ],
   "source": [
    "w_zeta_omega_coeffs = P(w_zeta_omega).list()\n",
    "w_zeta_omega_s = 0\n",
    "for i in range(0, len(w_zeta_omega_coeffs)):\n",
    "    w_zeta_omega_s += w_zeta_omega_coeffs[i]*srs_1[i]\n",
    "w_zeta_omega_s"
   ]
  },
  {
   "cell_type": "code",
   "execution_count": 347,
   "id": "0181aa12",
   "metadata": {},
   "outputs": [
    {
     "data": {
      "text/plain": [
       "[(91 : 66 : 1),\n",
       " (26 : 45 : 1),\n",
       " (91 : 35 : 1),\n",
       " (32 : 59 : 1),\n",
       " (12 : 32 : 1),\n",
       " (26 : 45 : 1),\n",
       " (91 : 66 : 1),\n",
       " (91 : 35 : 1),\n",
       " (65 : 98 : 1),\n",
       " 15,\n",
       " 13,\n",
       " 5,\n",
       " 1,\n",
       " 12,\n",
       " 15,\n",
       " 15]"
      ]
     },
     "execution_count": 347,
     "metadata": {},
     "output_type": "execute_result"
    }
   ],
   "source": [
    "proof_snark = [a_s, b_s, c_s, z_s, t_lo_s, t_mid_s, t_hi_s, w_zeta_s, w_zeta_omega_s, a_, b_, c_, sa_, sb_, r_, zw_]\n",
    "proof_snark"
   ]
  },
  {
   "cell_type": "markdown",
   "id": "8e7e9741",
   "metadata": {},
   "source": [
    "# Verification"
   ]
  },
  {
   "cell_type": "markdown",
   "id": "21aa20a9",
   "metadata": {},
   "source": [
    "## Verifier Preprocessing\n",
    "### Compute [qm(s)],[ql(s)],[qr(s)],[qo(s)],[qc(s)],[sa(s)],[sb(s)],[sc(s)] using SRS (yep ! common reference string is also known to the verifier)"
   ]
  },
  {
   "cell_type": "code",
   "execution_count": 349,
   "id": "0fad1847",
   "metadata": {},
   "outputs": [],
   "source": [
    "# qm_s\n",
    "qm_coeffs = P(qm).list()\n",
    "qm_s = 0\n",
    "for i in range(0, len(qm_coeffs)):\n",
    "    qm_s += qm_coeffs[i]*srs_1[i]\n",
    "\n",
    "# ql_s\n",
    "ql_coeffs = P(ql).list()\n",
    "ql_s = 0\n",
    "for i in range(0, len(ql_coeffs)):\n",
    "    ql_s += ql_coeffs[i]*srs_1[i]\n",
    "\n",
    "# qr_s\n",
    "qr_coeffs = P(qr).list()\n",
    "qr_s = 0\n",
    "for i in range(0, len(qr_coeffs)):\n",
    "    qr_s += qr_coeffs[i]*srs_1[i]\n",
    "    \n",
    "# qo_s\n",
    "qo_coeffs = P(qo).list()\n",
    "qo_s = 0\n",
    "for i in range(0, len(qo_coeffs)):\n",
    "    qo_s += qo_coeffs[i]*srs_1[i]\n",
    "    \n",
    "# qc_s\n",
    "qc_coeffs = P(qc).list()\n",
    "qc_s = 0\n",
    "for i in range(0, len(qc_coeffs)):\n",
    "    qc_s += qc_coeffs[i]*srs_1[i]\n",
    "    \n",
    "\n",
    "# sa_s\n",
    "sa_coeffs = P(Sa).list()\n",
    "sa_s = 0\n",
    "for i in range(0, len(sa_coeffs)):\n",
    "    sa_s += sa_coeffs[i]*srs_1[i]\n",
    "    \n",
    "# sb_s\n",
    "sb_coeffs = P(Sb).list()\n",
    "sb_s = 0\n",
    "for i in range(0, len(sb_coeffs)):\n",
    "    sb_s += sb_coeffs[i]*srs_1[i]\n",
    "    \n",
    "# sc_s\n",
    "sc_coeffs = P(Sc).list()\n",
    "sc_s = 0\n",
    "for i in range(0, len(sc_coeffs)):\n",
    "    sc_s += sc_coeffs[i]*srs_1[i]"
   ]
  },
  {
   "cell_type": "code",
   "execution_count": 350,
   "id": "c33eb1d5",
   "metadata": {},
   "outputs": [
    {
     "data": {
      "text/plain": [
       "((12 : 69 : 1),\n",
       " (32 : 42 : 1),\n",
       " (32 : 42 : 1),\n",
       " (1 : 99 : 1),\n",
       " 0,\n",
       " (68 : 74 : 1),\n",
       " (65 : 3 : 1),\n",
       " (18 : 49 : 1))"
      ]
     },
     "execution_count": 350,
     "metadata": {},
     "output_type": "execute_result"
    }
   ],
   "source": [
    "qm_s, ql_s, qr_s, qo_s, qc_s, sa_s, sb_s, sc_s"
   ]
  },
  {
   "cell_type": "code",
   "execution_count": 352,
   "id": "73b7121b",
   "metadata": {},
   "outputs": [],
   "source": [
    "upsilon = 4 # randomly chosen by verifier"
   ]
  },
  {
   "cell_type": "markdown",
   "id": "4978d7bc",
   "metadata": {},
   "source": [
    "## Verification Algorithm"
   ]
  },
  {
   "cell_type": "markdown",
   "id": "e64a0808",
   "metadata": {},
   "source": [
    "## 1. Validate a_s, b_s, c_s, z_s, t_lo_s, t_mid_s, t_hi_s, w_zeta_s, w_zeta_omega_s belong to G1"
   ]
  },
  {
   "cell_type": "code",
   "execution_count": 362,
   "id": "18b00471",
   "metadata": {},
   "outputs": [],
   "source": [
    "def validate_part_of_g1(x, y):\n",
    "    return y**2 == x**3 + 3"
   ]
  },
  {
   "cell_type": "code",
   "execution_count": 363,
   "id": "12683abd",
   "metadata": {},
   "outputs": [
    {
     "data": {
      "text/plain": [
       "True"
      ]
     },
     "execution_count": 363,
     "metadata": {},
     "output_type": "execute_result"
    }
   ],
   "source": [
    "verification_algo_1_verified =  validate_part_of_g1(a_s[0],a_s[1]) and validate_part_of_g1(b_s[0],b_s[1]) and validate_part_of_g1(c_s[0],c_s[1]) and validate_part_of_g1(z_s[0],z_s[1]) and validate_part_of_g1(t_lo_s[0],t_lo_s[1]) and validate_part_of_g1(t_mid_s[0],t_mid_s[1]) and validate_part_of_g1(t_hi_s[0],t_hi_s[1]) and validate_part_of_g1(w_zeta_s[0],w_zeta_s[1]) and validate_part_of_g1(w_zeta_omega_s[0],w_zeta_omega_s[1])\n",
    "\n",
    "verification_algo_1_verified"
   ]
  },
  {
   "cell_type": "markdown",
   "id": "bdf9cca1",
   "metadata": {},
   "source": [
    "## 2. Validate field elements are a part of F17"
   ]
  },
  {
   "cell_type": "code",
   "execution_count": 385,
   "id": "d565d6e9",
   "metadata": {},
   "outputs": [
    {
     "data": {
      "text/plain": [
       "True"
      ]
     },
     "execution_count": 385,
     "metadata": {},
     "output_type": "execute_result"
    }
   ],
   "source": [
    "verification_algo_2_verified = int(a_)<17 and int(b_)<17 and int(c_)<17 and int(sa_)<17 and int(sb_)<17 and int(r_)<17 and int(zw_)<17\n",
    "\n",
    "verification_algo_2_verified"
   ]
  },
  {
   "cell_type": "markdown",
   "id": "d9623fd7",
   "metadata": {},
   "source": [
    "## 3. Validate pub inputs are a part of F17"
   ]
  },
  {
   "cell_type": "markdown",
   "id": "44cc0d4c",
   "metadata": {},
   "source": [
    "## 4. Compute zero polynomial evaluation Zh(zeta) = (zeta**n) - 1"
   ]
  },
  {
   "cell_type": "code",
   "execution_count": 386,
   "id": "6ccc4c20",
   "metadata": {},
   "outputs": [],
   "source": [
    "Zh_zeta = F17(zeta**4-1)"
   ]
  },
  {
   "cell_type": "code",
   "execution_count": 387,
   "id": "05bca85a",
   "metadata": {},
   "outputs": [
    {
     "data": {
      "text/plain": [
       "12"
      ]
     },
     "execution_count": 387,
     "metadata": {},
     "output_type": "execute_result"
    }
   ],
   "source": [
    "Zh_zeta"
   ]
  },
  {
   "cell_type": "markdown",
   "id": "3420ae19",
   "metadata": {},
   "source": [
    "## 5. Compute Lagrange Polynomial\n",
    "### L1(zeta) = (zeta**n-1)/n * (zeta-1)"
   ]
  },
  {
   "cell_type": "code",
   "execution_count": 388,
   "id": "61e34796",
   "metadata": {},
   "outputs": [],
   "source": [
    "L1_zeta = F17((zeta**4 - 1)/(4 * (zeta - 1)))"
   ]
  },
  {
   "cell_type": "code",
   "execution_count": 389,
   "id": "3e423ae3",
   "metadata": {},
   "outputs": [
    {
     "data": {
      "text/plain": [
       "5"
      ]
     },
     "execution_count": 389,
     "metadata": {},
     "output_type": "execute_result"
    }
   ],
   "source": [
    "L1_zeta"
   ]
  },
  {
   "cell_type": "markdown",
   "id": "df42fff1",
   "metadata": {},
   "source": [
    "## 6. Compute public input polynomial evaluation"
   ]
  },
  {
   "cell_type": "markdown",
   "id": "ab27e950",
   "metadata": {},
   "source": [
    "## 7. Compute quotient polynomial evaluation"
   ]
  },
  {
   "cell_type": "code",
   "execution_count": 393,
   "id": "cf58ec79",
   "metadata": {},
   "outputs": [],
   "source": [
    "t_ =(r_ - ((a_+beta*sa_+gamma)*(b_+beta*sb_+gamma)*(c_+gamma)*zw_)*alpha-L1_zeta*alpha**2)/(Zh(zeta))"
   ]
  },
  {
   "cell_type": "code",
   "execution_count": 395,
   "id": "e2b09570",
   "metadata": {},
   "outputs": [
    {
     "data": {
      "text/plain": [
       "1"
      ]
     },
     "execution_count": 395,
     "metadata": {},
     "output_type": "execute_result"
    }
   ],
   "source": [
    "t_"
   ]
  },
  {
   "cell_type": "markdown",
   "id": "e0488226",
   "metadata": {},
   "source": [
    "## 8. Compute first part of batched polynomial commitment [D]"
   ]
  },
  {
   "cell_type": "code",
   "execution_count": 414,
   "id": "b4a39b1f",
   "metadata": {},
   "outputs": [],
   "source": [
    "d1 = ZZ(a_*b_*vega)*qm_s + ZZ(a_*vega)*ql_s + ZZ(b_*vega)*qr_s + ZZ(c_*vega)*qo_s + ZZ(vega)*ZZ(qc_s)"
   ]
  },
  {
   "cell_type": "code",
   "execution_count": 423,
   "id": "57912c3e",
   "metadata": {},
   "outputs": [],
   "source": [
    "d2 = ((a_+beta*zeta+gamma)*(b_+beta*k1*zeta+gamma)*(c_+beta*k2*zeta+gamma)*alpha*vega+L1_zeta*alpha**2*vega+F17(upsilon))*z_s"
   ]
  },
  {
   "cell_type": "code",
   "execution_count": 424,
   "id": "423f0e96",
   "metadata": {},
   "outputs": [
    {
     "data": {
      "text/plain": [
       "(26 : 45 : 1)"
      ]
     },
     "execution_count": 424,
     "metadata": {},
     "output_type": "execute_result"
    }
   ],
   "source": [
    "d2"
   ]
  },
  {
   "cell_type": "code",
   "execution_count": 425,
   "id": "f034ca07",
   "metadata": {},
   "outputs": [],
   "source": [
    "d3 = -1 * (a_+beta*sa_+gamma)*(b_+beta*sb_+gamma)*alpha*vega*beta*zw_*sc_s"
   ]
  },
  {
   "cell_type": "code",
   "execution_count": 426,
   "id": "96cc5d5e",
   "metadata": {},
   "outputs": [
    {
     "data": {
      "text/plain": [
       "(0 : 1 : 0)"
      ]
     },
     "execution_count": 426,
     "metadata": {},
     "output_type": "execute_result"
    }
   ],
   "source": [
    "d3"
   ]
  },
  {
   "cell_type": "code",
   "execution_count": 428,
   "id": "11024e98",
   "metadata": {},
   "outputs": [],
   "source": [
    "d = d1+d2-d3"
   ]
  },
  {
   "cell_type": "code",
   "execution_count": 429,
   "id": "5c3722f9",
   "metadata": {},
   "outputs": [
    {
     "data": {
      "text/plain": [
       "(0 : 1 : 0)"
      ]
     },
     "execution_count": 429,
     "metadata": {},
     "output_type": "execute_result"
    }
   ],
   "source": [
    "d"
   ]
  },
  {
   "cell_type": "markdown",
   "id": "450bd666",
   "metadata": {},
   "source": [
    "## 9. Compute full batched polynomial commitment [F]"
   ]
  },
  {
   "cell_type": "code",
   "execution_count": 430,
   "id": "d9c4f2e5",
   "metadata": {},
   "outputs": [],
   "source": [
    "f = t_lo_s + zeta**6 * t_mid_s + zeta**12 * t_hi_s + d + vega**2 * a_s + vega**3 * b_s + vega**4 * c_s + vega**5 * sa_s + vega**6 * sb_s"
   ]
  },
  {
   "cell_type": "code",
   "execution_count": 431,
   "id": "f2110bd5",
   "metadata": {},
   "outputs": [
    {
     "data": {
      "text/plain": [
       "(68 : 27 : 1)"
      ]
     },
     "execution_count": 431,
     "metadata": {},
     "output_type": "execute_result"
    }
   ],
   "source": [
    "f"
   ]
  },
  {
   "cell_type": "markdown",
   "id": "17fc2c92",
   "metadata": {},
   "source": [
    "## 10. Compute group encoded batch Evaluation [E]"
   ]
  },
  {
   "cell_type": "code",
   "execution_count": 438,
   "id": "364280e4",
   "metadata": {},
   "outputs": [],
   "source": [
    "e = (t_ + vega*r_ + vega**2*a_ + vega**3*b_ + vega**4*c_ + vega**5 * sa_ + vega**6 * sb_ + upsilon * zw_)*G"
   ]
  },
  {
   "cell_type": "code",
   "execution_count": 439,
   "id": "c272dc86",
   "metadata": {},
   "outputs": [
    {
     "data": {
      "text/plain": [
       "(1 : 2 : 1)"
      ]
     },
     "execution_count": 439,
     "metadata": {},
     "output_type": "execute_result"
    }
   ],
   "source": [
    "e"
   ]
  },
  {
   "cell_type": "markdown",
   "id": "d1ef84ba",
   "metadata": {},
   "source": [
    "## 11. Batch Validate all Evaluations (Pairing check)"
   ]
  },
  {
   "cell_type": "code",
   "execution_count": 440,
   "id": "faefc37d",
   "metadata": {},
   "outputs": [],
   "source": [
    "x1 = w_zeta_s + upsilon *w_zeta_omega_s"
   ]
  },
  {
   "cell_type": "code",
   "execution_count": 441,
   "id": "031a4fa8",
   "metadata": {},
   "outputs": [
    {
     "data": {
      "text/plain": [
       "(32 : 42 : 1)"
      ]
     },
     "execution_count": 441,
     "metadata": {},
     "output_type": "execute_result"
    }
   ],
   "source": [
    "x1"
   ]
  },
  {
   "cell_type": "code",
   "execution_count": 442,
   "id": "84f7b754",
   "metadata": {},
   "outputs": [],
   "source": [
    "x2 = s*G2"
   ]
  },
  {
   "cell_type": "code",
   "execution_count": 443,
   "id": "e4453d3c",
   "metadata": {},
   "outputs": [
    {
     "data": {
      "text/plain": [
       "(90 : 82*X : 1)"
      ]
     },
     "execution_count": 443,
     "metadata": {},
     "output_type": "execute_result"
    }
   ],
   "source": [
    "x2"
   ]
  },
  {
   "cell_type": "code",
   "execution_count": 448,
   "id": "dd04fa69",
   "metadata": {},
   "outputs": [],
   "source": [
    "y1 = zeta * w_zeta_s + ZZ(upsilon*zeta*w[1])* w_zeta_omega_s + f - e"
   ]
  },
  {
   "cell_type": "code",
   "execution_count": 449,
   "id": "1f6631ed",
   "metadata": {},
   "outputs": [
    {
     "data": {
      "text/plain": [
       "(12 : 69 : 1)"
      ]
     },
     "execution_count": 449,
     "metadata": {},
     "output_type": "execute_result"
    }
   ],
   "source": [
    "y1"
   ]
  },
  {
   "cell_type": "code",
   "execution_count": 450,
   "id": "0c0cc081",
   "metadata": {},
   "outputs": [],
   "source": [
    "y2 = G2"
   ]
  },
  {
   "cell_type": "code",
   "execution_count": 454,
   "id": "140e7dae",
   "metadata": {},
   "outputs": [],
   "source": [
    "x1_ = E2(x1)\n",
    "x2_ = E2(x2)\n",
    "y1_ = E2(y1)\n",
    "y2_ = E2(y2)"
   ]
  },
  {
   "cell_type": "code",
   "execution_count": 458,
   "id": "fa4ed957",
   "metadata": {},
   "outputs": [],
   "source": [
    "pairing_check_passed = x1_.weil_pairing(x2_, 17) == y1_.weil_pairing(y2_, 17)"
   ]
  },
  {
   "cell_type": "markdown",
   "id": "334fe9f8",
   "metadata": {},
   "source": []
  },
  {
   "cell_type": "markdown",
   "id": "0dae5633",
   "metadata": {},
   "source": [
    "if pairing_check_passed:\n",
    "    print(\"plonk proof verified\")\n",
    "else:\n",
    "    print(\"plonk proof verification failed\")"
   ]
  },
  {
   "cell_type": "code",
   "execution_count": null,
   "id": "89ca0581",
   "metadata": {},
   "outputs": [],
   "source": []
  }
 ],
 "metadata": {
  "kernelspec": {
   "display_name": "SageMath 9.8",
   "language": "sage",
   "name": "sagemath-9.8"
  },
  "language_info": {
   "codemirror_mode": {
    "name": "ipython",
    "version": 3
   },
   "file_extension": ".py",
   "mimetype": "text/x-python",
   "name": "python",
   "nbconvert_exporter": "python",
   "pygments_lexer": "ipython3",
   "version": "3.11.1"
  }
 },
 "nbformat": 4,
 "nbformat_minor": 5
}
